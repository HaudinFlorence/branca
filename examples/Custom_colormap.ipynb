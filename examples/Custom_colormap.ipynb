{
 "cells": [
  {
   "cell_type": "code",
   "execution_count": null,
   "id": "1d544550",
   "metadata": {},
   "outputs": [],
   "source": [
    "from ipywidgets import Output\n",
    "from branca.colormap import linear\n",
    "\n",
    "colormap_choice = linear.YlOrRd_04\n",
    "widget = Output()\n",
    "with widget:\n",
    "    vmin = 3.2\n",
    "    vmax = 10.3\n",
    "    colormap=colormap_choice.scale(vmin,vmax)\n",
    "    colormap.caption ='Unemployment rate'\n",
    "    display(colormap)"
   ]
  }
 ],
 "metadata": {
  "kernelspec": {
   "display_name": "Python 3 (ipykernel)",
   "language": "python",
   "name": "python3"
  },
  "language_info": {
   "codemirror_mode": {
    "name": "ipython",
    "version": 3
   },
   "file_extension": ".py",
   "mimetype": "text/x-python",
   "name": "python",
   "nbconvert_exporter": "python",
   "pygments_lexer": "ipython3",
   "version": "3.9.12"
  }
 },
 "nbformat": 4,
 "nbformat_minor": 5
}
